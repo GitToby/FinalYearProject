{
 "cells": [
  {
   "cell_type": "code",
   "execution_count": 1,
   "metadata": {
    "collapsed": true
   },
   "outputs": [],
   "source": [
    "# %matplotlib inline\n",
    "import os\n",
    "import time\n",
    "import axelrod as axl\n",
    "import axelrod_dojo as axl_dojo\n",
    "import matplotlib.pyplot as plt\n",
    "import pandas as pd\n",
    "import numpy as np\n",
    "\n",
    "C, D = axl.Action\n",
    "\n",
    "col_names = [\"generation\", \"mean_score\", \"standard_deviation\", \"best_score\", \"sequence\"]"
   ]
  },
  {
   "cell_type": "markdown",
   "metadata": {},
   "source": [
    "# Data Read Functions:"
   ]
  },
  {
   "cell_type": "code",
   "execution_count": 2,
   "metadata": {
    "collapsed": true
   },
   "outputs": [],
   "source": [
    "data_path = \"data/\"\n",
    "\n",
    "opponent_names = [\n",
    "    \"alternator\",\n",
    "    \"collectivestrategy\",\n",
    "    \"evolved_fsm_16\",\n",
    "    \"grudger\",\n",
    "    \"random__0.5\",\n",
    "    \"tit_for_tat\",\n",
    "    \"zd-extortion__0.2,_0.1,_1\",\n",
    "    \"champion\"\n",
    "]\n",
    "\n",
    "analysis_types_old = [\n",
    "    \"generation\",\n",
    "    \"mutation_frequency\",\n",
    "    \"mutation_potency\",\n",
    "    \"pop\"\n",
    "]\n",
    "\n",
    "analysis_types_new = [\n",
    "    \"gen_NEW_POP\",\n",
    "    \"mutation_frequency_NEW_POP\",\n",
    "    \"mutation_potency_NEW_POP\",\n",
    "    \"pop_NEW_POP\",\n",
    "    \"pop_NEW_POP_old\"\n",
    "]\n",
    "\n",
    "analysis_kws = {\n",
    "    \"generation\": \"generations\",\n",
    "    \"mutation_frequency\": \"mutation_frequency\",\n",
    "    \"mutation_potency\": \"mutation_potency\",\n",
    "    \"pop\": \"population\",\n",
    "    \"gen_NEW_POP\": \"gen_len\",\n",
    "    \"mutation_frequency_NEW_POP\": \"mutation_frequency\",\n",
    "    \"mutation_potency_NEW_POP\": \"mutation_potency\",\n",
    "    \"pop_NEW_POP\": \"population\",\n",
    "    \"pop_NEW_POP_old\": \"population\"\n",
    "}"
   ]
  },
  {
   "cell_type": "code",
   "execution_count": 3,
   "metadata": {
    "collapsed": false
   },
   "outputs": [],
   "source": [
    "old_data = []\n",
    "new_data = []\n",
    "for op in opponent_names:\n",
    "    for tp in analysis_types_old:\n",
    "        old_data.append((op, tp, pd.read_csv(data_path + op + \"_\" + tp+\".csv\")))\n",
    "    \n",
    "    for tpN in analysis_types_new:\n",
    "        new_data.append((op, tpN, pd.read_csv(data_path + op + \"_\"+ tpN+\".csv\")))\n",
    "\n",
    "all_data = old_data + new_data"
   ]
  },
  {
   "cell_type": "code",
   "execution_count": 4,
   "metadata": {
    "collapsed": false
   },
   "outputs": [],
   "source": [
    "list_gen_NEW_POP = [x for x in new_data if x[1]==\"gen_NEW_POP\"]\n",
    "list_mut_freq_NEW_POP = [x for x in new_data if x[1]==\"mutation_frequency_NEW_POP\"]\n",
    "list_mut_pot_NEW_POP = [x for x in new_data if x[1]==\"mutation_potency_NEW_POP\"]\n",
    "list_pop_NEW_POP = [x for x in new_data if x[1]==\"pop_NEW_POP\"]\n",
    "list_pop_NEW_POP_old = [x for x in new_data if x[1]==\"pop_NEW_POP_old\"]\n",
    "\n",
    "list_generation = [x for x in old_data if x[1]==\"generation\"]\n",
    "list_mutation_frequency = [x for x in old_data if x[1]==\"mutation_frequency\"]\n",
    "list_mutation_potency = [x for x in old_data if x[1]==\"mutation_potency\"]\n",
    "list_pop = [x for x in old_data if x[1]==\"pop\"]"
   ]
  },
  {
   "cell_type": "code",
   "execution_count": 5,
   "metadata": {
    "collapsed": false
   },
   "outputs": [],
   "source": [
    "def get_single_df(opponent,analysis_name):\n",
    "    for item in all_data:\n",
    "        if item[0]==opponent and item[1]==analysis_name:\n",
    "            return item\n",
    "    \n",
    "    print(\"no data found.\")\n",
    "    return(None)"
   ]
  },
  {
   "cell_type": "markdown",
   "metadata": {},
   "source": [
    "# Plotting Functions"
   ]
  },
  {
   "cell_type": "code",
   "execution_count": 6,
   "metadata": {
    "collapsed": false
   },
   "outputs": [],
   "source": [
    "def plot_df(axs, in_tuple, grouping_kw, x, y, font,scatter=False):\n",
    "    if axs == None:\n",
    "        fig, axs = plt.subplots()\n",
    "    \n",
    "    opponent = in_tuple[0]\n",
    "    analysis = in_tuple[1]\n",
    "    in_df = in_tuple[2]\n",
    "    \n",
    "    if scatter:\n",
    "        max_val = 0.01\n",
    "        for label, df in in_df.groupby(grouping_kw):\n",
    "            axs.scatter(label,df[y].mean(),label=label)\n",
    "            if df[y].mean() > 1.5: max_val = 4\n",
    "            \n",
    "        axs.axhline(0)\n",
    "        axs.set_ylim([-0.001,max_val])\n",
    "        axs.set(xlabel=grouping_kw.replace(\"_\", \" \").title(),\n",
    "                ylabel=y.replace(\"_\", \" \").title()+\" Mean\")\n",
    "        \n",
    "    else:\n",
    "        for label, df in in_df.groupby(grouping_kw):\n",
    "            axs.plot(df[x],df[y],label=label)\n",
    "        \n",
    "        axs.set(xlabel=x.replace(\"_\", \" \").title(),\n",
    "                ylabel=y.replace(\"_\", \" \").title())\n",
    "    \n",
    "#     axs.set(title=str(opponent + \": \" + analysis))\n",
    "    axs.set(title=str(opponent))\n",
    "    \n",
    "    axs.legend()\n",
    "    return axs"
   ]
  },
  {
   "cell_type": "code",
   "execution_count": 7,
   "metadata": {
    "collapsed": false
   },
   "outputs": [],
   "source": [
    "def plot_analysis_type_for_all(columns, rows, data_list, grouping_kw, x, y, x_share=False, y_share=False,size=(15,10),scatter=False):\n",
    "    fig, axes = plt.subplots(ncols=columns, nrows=rows, sharex=x_share, sharey=y_share, figsize=size)\n",
    "    fig.tight_layout(h_pad=3,w_pad=2)\n",
    "    \n",
    "    indexes = [(r,c) for r in range(rows) for c in range(columns)]\n",
    "    \n",
    "    font = {\n",
    "       'fontsize': 'large',\n",
    "        }\n",
    "    \n",
    "    i=0\n",
    "    for opponent_tuple in data_list:\n",
    "        axes_to_pass = axes[indexes[i][0]][indexes[i][1]]\n",
    "        plot_df(axes_to_pass, opponent_tuple, grouping_kw, x, y, font, scatter)\n",
    "        i += 1\n",
    "    \n",
    "    return fig"
   ]
  },
  {
   "cell_type": "markdown",
   "metadata": {},
   "source": [
    "# Plots"
   ]
  },
  {
   "cell_type": "markdown",
   "metadata": {},
   "source": [
    "## Population"
   ]
  },
  {
   "cell_type": "code",
   "execution_count": 20,
   "metadata": {
    "collapsed": false,
    "scrolled": true
   },
   "outputs": [],
   "source": [
    "INIT_POP_bs_v_gens_all = plot_analysis_type_for_all(4,2,list_pop,'population','generation','best_score')\n",
    "\n",
    "INIT_POP_mean_bs_diff_v_init_pop_all = plot_analysis_type_for_all(4, 2, list_pop,'population','generation','best_score',y_share=True,scatter=True)"
   ]
  },
  {
   "cell_type": "markdown",
   "metadata": {},
   "source": [
    "## Generation Length"
   ]
  },
  {
   "cell_type": "code",
   "execution_count": 9,
   "metadata": {
    "collapsed": false,
    "scrolled": true
   },
   "outputs": [],
   "source": [
    "GENS_mean_bs_diff_v_gens_all = plot_analysis_type_for_all(4,2,list_generation,'generations',x=\"\",y=\"best_score_diff\",y_share=True,scatter=True)\n",
    "\n",
    "# GENS_max_bs_v_gens_all = _\n",
    "# plot_analysis_type_for_all(4,2,list_mutation_frequency,'mutation_frequency',x=\"mutation_frequency\",y=\"best_score_diff\",y_share=True,scatter=True)"
   ]
  },
  {
   "cell_type": "markdown",
   "metadata": {},
   "source": [
    "## Mutation Potency"
   ]
  },
  {
   "cell_type": "code",
   "execution_count": 10,
   "metadata": {
    "collapsed": false,
    "scrolled": true
   },
   "outputs": [],
   "source": [
    "MUT_POT_bs_v_gen_all = plot_analysis_type_for_all(4,2, list_mutation_potency,'mutation_potency',x=\"generation\",y=\"best_score\")\n",
    "\n",
    "MUT_POT_bs_diff_v_pot_all = plot_analysis_type_for_all(4,2,list_mutation_potency,'mutation_potency',x=\"\",y=\"best_score_diff\",y_share=True,scatter=True)"
   ]
  },
  {
   "cell_type": "markdown",
   "metadata": {},
   "source": [
    "## Mutaiton Frequency"
   ]
  },
  {
   "cell_type": "code",
   "execution_count": 11,
   "metadata": {
    "collapsed": false,
    "scrolled": true
   },
   "outputs": [],
   "source": [
    "MUT_FREQ_bs_v_gen_all = plot_analysis_type_for_all(\n",
    "    columns=4, rows=2,\n",
    "    data_list=list_mutation_frequency,\n",
    "    grouping_kw='mutation_frequency',\n",
    "    x=\"generation\",\n",
    "    y=\"best_score\")\n",
    "\n",
    "MUT_FREQ_bs_diff_v_freq_all = plot_analysis_type_for_all(4,2,list_mutation_frequency,'mutation_frequency',x=\"\",y=\"best_score_diff\",y_share=True,scatter=True)"
   ]
  },
  {
   "cell_type": "markdown",
   "metadata": {},
   "source": [
    "## NEW - Population"
   ]
  },
  {
   "cell_type": "code",
   "execution_count": 12,
   "metadata": {
    "collapsed": false,
    "scrolled": false
   },
   "outputs": [],
   "source": [
    "NEW_INIT_POP_bs_v_gen_all_old = plot_analysis_type_for_all(\n",
    "    columns=4, rows=2,\n",
    "    data_list=list_pop_NEW_POP_old,\n",
    "    grouping_kw='population',\n",
    "    x=\"generation\",\n",
    "    y=\"best_score\")\n",
    "\n",
    "# NEW_INIT_POP_bs_v_gen_all = plot_analysis_type_for_all(\n",
    "#     columns=4, rows=2,\n",
    "#     data_list=list_pop_NEW_POP,\n",
    "#     grouping_kw='population',\n",
    "#     x=\"generation\",\n",
    "#     y=\"best_score\")\n",
    "   \n",
    "non_performers = []\n",
    "for item in list_pop_NEW_POP:\n",
    "    if item[0] in [\"collectivestrategy\",\"zd-extortion__0.2,_0.1,_1\",\"champion\",\"random__0.5\"]:\n",
    "        non_performers.append(item)\n",
    "        \n",
    "NEW_INIT_POP_bs_v_gen_non_performers = plot_analysis_type_for_all(\n",
    "    columns=2, rows=2,\n",
    "    data_list=non_performers,\n",
    "    grouping_kw='population',\n",
    "    x=\"generation\",\n",
    "    y=\"best_score\")"
   ]
  },
  {
   "cell_type": "markdown",
   "metadata": {},
   "source": [
    "## NEW - Generation"
   ]
  },
  {
   "cell_type": "code",
   "execution_count": 19,
   "metadata": {
    "collapsed": false
   },
   "outputs": [],
   "source": [
    "NEW_GEN_bs_v_gen_all = plot_analysis_type_for_all(\n",
    "    columns=4, rows=2,\n",
    "    data_list=list_gen_NEW_POP,\n",
    "    grouping_kw='gen_len',\n",
    "    x=\"\",\n",
    "    y=\"best_score\",\n",
    "    y_share=True,\n",
    "    scatter=True)"
   ]
  },
  {
   "cell_type": "markdown",
   "metadata": {},
   "source": [
    "## NEW - Mutation Potency"
   ]
  },
  {
   "cell_type": "code",
   "execution_count": 14,
   "metadata": {
    "collapsed": false
   },
   "outputs": [],
   "source": [
    "NEW_MUT_POT_bs_v_gen_all = plot_analysis_type_for_all(\n",
    "    columns=4, rows=2,\n",
    "    data_list=list_mut_pot_NEW_POP,\n",
    "    grouping_kw='mutation_potency',\n",
    "    x=\"generation\",\n",
    "    y=\"best_score\")"
   ]
  },
  {
   "cell_type": "markdown",
   "metadata": {},
   "source": [
    "## NEW - Mutation Frequency"
   ]
  },
  {
   "cell_type": "code",
   "execution_count": 15,
   "metadata": {
    "collapsed": false
   },
   "outputs": [],
   "source": [
    "NEW_MUT_FREQ_bs_v_gen_all = plot_analysis_type_for_all(\n",
    "    columns=4, rows=2,\n",
    "    data_list=list_mut_freq_NEW_POP,\n",
    "    grouping_kw='mutation_frequency',\n",
    "    x=\"generation\",\n",
    "    y=\"best_score\")"
   ]
  },
  {
   "cell_type": "code",
   "execution_count": 16,
   "metadata": {
    "collapsed": false
   },
   "outputs": [
    {
     "data": {
      "text/plain": [
       "[<matplotlib.text.Text at 0x196a12b11d0>,\n",
       " <matplotlib.text.Text at 0x196a129fac8>]"
      ]
     },
     "execution_count": 16,
     "metadata": {},
     "output_type": "execute_result"
    }
   ],
   "source": [
    "fig2, axs2 = plt.subplots(2)\n",
    "\n",
    "x = range(100)\n",
    "y1 = [x*x for x in x]\n",
    "y2 = [2.17**x for x in x]\n",
    "\n",
    "axs2[0].plot(x,y1)\n",
    "axs2[0].set(xlabel=\"x\",\n",
    "        ylabel=\"x^2\")\n",
    "\n",
    "\n",
    "axs2[1].plot(x,y2)\n",
    "axs2[1].set(xlabel=\"x\",\n",
    "        ylabel=\"e^x\")\n"
   ]
  },
  {
   "cell_type": "markdown",
   "metadata": {},
   "source": [
    "## Saving"
   ]
  },
  {
   "cell_type": "code",
   "execution_count": 26,
   "metadata": {
    "collapsed": false
   },
   "outputs": [],
   "source": [
    "#population\n",
    "INIT_POP_bs_v_gens_all.savefig(\"plots/INIT_POP_bs_v_gens_all.pdf\")\n",
    "INIT_POP_mean_bs_diff_v_init_pop_all.savefig(\"plots/INIT_POP_mean_bs_diff_v_init_pop_all.pdf\")\n",
    "\n",
    "#generations\n",
    "GENS_mean_bs_diff_v_gens_all.savefig(\"plots/GENS_mean_bs_diff_v_gens_all.pdf\")\n",
    "\n",
    "#mutation potency\n",
    "MUT_POT_bs_v_gen_all.savefig(\"plots/MUT_POT_bs_v_gen_all.pdf\")\n",
    "MUT_POT_bs_diff_v_pot_all.savefig(\"plots/MUT_POT_bs_diff_v_pot_all.pdf\")\n",
    "\n",
    "#mutation frequency\n",
    "MUT_FREQ_bs_v_gen_all.savefig(\"plots/MUT_FREQ_bs_v_gen_all.pdf\")\n",
    "MUT_FREQ_bs_diff_v_freq_all.savefig(\"plots/MUT_FREQ_bs_diff_v_freq_all.pdf\")\n",
    "\n",
    "#NEW - population\n",
    "NEW_INIT_POP_bs_v_gen_all_old.savefig(\"plots/NEW_INIT_POP_bs_v_gen_all_old.pdf\")\n",
    "NEW_INIT_POP_bs_v_gen_non_performers.savefig(\"plots/NEW_INIT_POP_bs_v_gen_non_performers.pdf\")\n",
    "\n",
    "#NEW - generations\n",
    "NEW_GEN_bs_v_gen_all.savefig(\"plots/NEW_GEN_bs_v_gen_all.pdf\")\n",
    "\n",
    "#NEW - mutation potency\n",
    "NEW_MUT_POT_bs_v_gen_all.savefig(\"plots/NEW_MUT_POT_bs_v_gen_all.pdf\")\n",
    "\n",
    "#NEW - mutation frequency\n",
    "NEW_MUT_FREQ_bs_v_gen_all.savefig(\"plots/NEW_MUT_FREQ_bs_v_gen_all.pdf\")"
   ]
  },
  {
   "cell_type": "code",
   "execution_count": null,
   "metadata": {
    "collapsed": true
   },
   "outputs": [],
   "source": []
  }
 ],
 "metadata": {
  "kernelspec": {
   "display_name": "Python 3",
   "language": "python",
   "name": "python3"
  },
  "language_info": {
   "codemirror_mode": {
    "name": "ipython",
    "version": 3
   },
   "file_extension": ".py",
   "mimetype": "text/x-python",
   "name": "python",
   "nbconvert_exporter": "python",
   "pygments_lexer": "ipython3",
   "version": "3.6.0"
  }
 },
 "nbformat": 4,
 "nbformat_minor": 2
}
